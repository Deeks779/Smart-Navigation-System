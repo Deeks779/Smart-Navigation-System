{
  "nbformat": 4,
  "nbformat_minor": 0,
  "metadata": {
    "colab": {
      "provenance": [],
      "authorship_tag": "ABX9TyN2zlPU0FTBUUFmFB+RA8Wr",
      "include_colab_link": true
    },
    "kernelspec": {
      "name": "python3",
      "display_name": "Python 3"
    },
    "language_info": {
      "name": "python"
    }
  },
  "cells": [
    {
      "cell_type": "markdown",
      "metadata": {
        "id": "view-in-github",
        "colab_type": "text"
      },
      "source": [
        "<a href=\"https://colab.research.google.com/github/Deeks779/Smart-Navigation-System/blob/main/Smart_Campus_Navigation_System.ipynb\" target=\"_parent\"><img src=\"https://colab.research.google.com/assets/colab-badge.svg\" alt=\"Open In Colab\"/></a>"
      ]
    },
    {
      "cell_type": "code",
      "source": [
        "pip install folium\n",
        "pip install pandas\n",
        "pip install ipywidgets"
      ],
      "metadata": {
        "colab": {
          "base_uri": "https://localhost:8080/",
          "height": 106
        },
        "id": "XrbcklX7QdPe",
        "outputId": "9aad246f-f852-4bc5-d4ca-38c6ccb41289"
      },
      "execution_count": 2,
      "outputs": [
        {
          "output_type": "error",
          "ename": "SyntaxError",
          "evalue": "invalid syntax (<ipython-input-2-300e527b6dbd>, line 1)",
          "traceback": [
            "\u001b[0;36m  File \u001b[0;32m\"<ipython-input-2-300e527b6dbd>\"\u001b[0;36m, line \u001b[0;32m1\u001b[0m\n\u001b[0;31m    pip install folium\u001b[0m\n\u001b[0m        ^\u001b[0m\n\u001b[0;31mSyntaxError\u001b[0m\u001b[0;31m:\u001b[0m invalid syntax\n"
          ]
        }
      ]
    },
    {
      "cell_type": "code",
      "execution_count": 1,
      "metadata": {
        "colab": {
          "base_uri": "https://localhost:8080/",
          "height": 367
        },
        "id": "q1xuvsr8P0UI",
        "outputId": "7838d856-85f4-49bd-80c9-bb8fb41f9297"
      },
      "outputs": [
        {
          "output_type": "error",
          "ename": "ValueError",
          "evalue": "Custom tiles must have an attribution.",
          "traceback": [
            "\u001b[0;31m---------------------------------------------------------------------------\u001b[0m",
            "\u001b[0;31mValueError\u001b[0m                                Traceback (most recent call last)",
            "\u001b[0;32m<ipython-input-1-b1ca9cf69ce3>\u001b[0m in \u001b[0;36m<cell line: 9>\u001b[0;34m()\u001b[0m\n\u001b[1;32m      7\u001b[0m \u001b[0mloc\u001b[0m\u001b[0;34m=\u001b[0m\u001b[0;34m(\u001b[0m\u001b[0;36m23.077386057472637\u001b[0m\u001b[0;34m,\u001b[0m\u001b[0;36m76.85258607068243\u001b[0m\u001b[0;34m)\u001b[0m\u001b[0;34m\u001b[0m\u001b[0;34m\u001b[0m\u001b[0m\n\u001b[1;32m      8\u001b[0m \u001b[0mm\u001b[0m\u001b[0;34m=\u001b[0m\u001b[0mfolium\u001b[0m\u001b[0;34m.\u001b[0m\u001b[0mMap\u001b[0m\u001b[0;34m(\u001b[0m\u001b[0mlocation\u001b[0m\u001b[0;34m=\u001b[0m\u001b[0mloc\u001b[0m\u001b[0;34m,\u001b[0m \u001b[0mwidth\u001b[0m\u001b[0;34m=\u001b[0m\u001b[0;34m\"75%\"\u001b[0m\u001b[0;34m,\u001b[0m \u001b[0mzoom_start\u001b[0m\u001b[0;34m=\u001b[0m \u001b[0;36m17\u001b[0m\u001b[0;34m)\u001b[0m\u001b[0;34m\u001b[0m\u001b[0;34m\u001b[0m\u001b[0m\n\u001b[0;32m----> 9\u001b[0;31m \u001b[0mfolium\u001b[0m\u001b[0;34m.\u001b[0m\u001b[0mTileLayer\u001b[0m\u001b[0;34m(\u001b[0m\u001b[0;34m'stamentoner'\u001b[0m\u001b[0;34m)\u001b[0m\u001b[0;34m.\u001b[0m\u001b[0madd_to\u001b[0m\u001b[0;34m(\u001b[0m\u001b[0mm\u001b[0m\u001b[0;34m)\u001b[0m\u001b[0;34m\u001b[0m\u001b[0;34m\u001b[0m\u001b[0m\n\u001b[0m\u001b[1;32m     10\u001b[0m \u001b[0;31m#folium.LayerControl().add_to(m)\u001b[0m\u001b[0;34m\u001b[0m\u001b[0;34m\u001b[0m\u001b[0m\n\u001b[1;32m     11\u001b[0m \u001b[0mlist_col\u001b[0m\u001b[0;34m=\u001b[0m\u001b[0;34m{\u001b[0m\u001b[0;34m'C:/Users/Deeksha/Desktop/Project ex1/Red'\u001b[0m\u001b[0;34m:\u001b[0m\u001b[0;34m'#FF0000'\u001b[0m\u001b[0;34m,\u001b[0m\u001b[0;34m'C:/Users/Deeksha/Desktop/Project ex1/Pink'\u001b[0m\u001b[0;34m:\u001b[0m\u001b[0;34m'#C154C1'\u001b[0m\u001b[0;34m,\u001b[0m\u001b[0;34m'C:/Users/Deeksha/Desktop/Project ex1/Blue'\u001b[0m\u001b[0;34m:\u001b[0m\u001b[0;34m'#0000FF'\u001b[0m\u001b[0;34m,\u001b[0m\u001b[0;34m'C:/Users/Deeksha/Desktop/Project ex1/Orange'\u001b[0m\u001b[0;34m:\u001b[0m\u001b[0;34m'#FFA500'\u001b[0m\u001b[0;34m,\u001b[0m\u001b[0;34m'C:/Users/Deeksha/Desktop/Project ex1/Green'\u001b[0m\u001b[0;34m:\u001b[0m\u001b[0;34m'#008000'\u001b[0m\u001b[0;34m}\u001b[0m\u001b[0;34m\u001b[0m\u001b[0;34m\u001b[0m\u001b[0m\n",
            "\u001b[0;32m/usr/local/lib/python3.10/dist-packages/folium/raster_layers.py\u001b[0m in \u001b[0;36m__init__\u001b[0;34m(self, tiles, min_zoom, max_zoom, max_native_zoom, attr, detect_retina, name, overlay, control, show, no_wrap, subdomains, tms, opacity, **kwargs)\u001b[0m\n\u001b[1;32m    138\u001b[0m         \u001b[0mself\u001b[0m\u001b[0;34m.\u001b[0m\u001b[0mtiles\u001b[0m \u001b[0;34m=\u001b[0m \u001b[0mtiles\u001b[0m\u001b[0;34m\u001b[0m\u001b[0;34m\u001b[0m\u001b[0m\n\u001b[1;32m    139\u001b[0m         \u001b[0;32mif\u001b[0m \u001b[0;32mnot\u001b[0m \u001b[0mattr\u001b[0m\u001b[0;34m:\u001b[0m\u001b[0;34m\u001b[0m\u001b[0;34m\u001b[0m\u001b[0m\n\u001b[0;32m--> 140\u001b[0;31m             \u001b[0;32mraise\u001b[0m \u001b[0mValueError\u001b[0m\u001b[0;34m(\u001b[0m\u001b[0;34m\"Custom tiles must have an attribution.\"\u001b[0m\u001b[0;34m)\u001b[0m\u001b[0;34m\u001b[0m\u001b[0;34m\u001b[0m\u001b[0m\n\u001b[0m\u001b[1;32m    141\u001b[0m \u001b[0;34m\u001b[0m\u001b[0m\n\u001b[1;32m    142\u001b[0m         self.options = parse_options(\n",
            "\u001b[0;31mValueError\u001b[0m: Custom tiles must have an attribution."
          ]
        }
      ],
      "source": [
        "import folium\n",
        "import pandas as pd\n",
        "from folium import plugins\n",
        "import json\n",
        "import ipywidgets\n",
        "import os\n",
        "loc=(23.077386057472637,76.85258607068243)\n",
        "m=folium.Map(location=loc, width=\"75%\", zoom_start= 17)\n",
        "folium.TileLayer('stamentoner').add_to(m)\n",
        "#folium.LayerControl().add_to(m)\n",
        "list_col={'C:/Users/Deeksha/Desktop/Project ex1/Red':'#FF0000','C:/Users/Deeksha/Desktop/Project ex1/Pink':'#C154C1','C:/Users/Deeksha/Desktop/Project ex1/Blue':'#0000FF','C:/Users/Deeksha/Desktop/Project ex1/Orange':'#FFA500','C:/Users/Deeksha/Desktop/Project ex1/Green':'#008000'}"
      ]
    },
    {
      "cell_type": "code",
      "source": [
        "#to add color to geojson files\n",
        "def add_col(file_name,col_name):\n",
        "    with open(file_name) as f:\n",
        "        t = json.load(f)\n",
        "    folium.Choropleth(geo_data=t,fill_color=col_name,line_color='black').add_to(m)\n",
        "\n",
        "#to switch co-ordinate\n",
        "def switchPosition(coordinate):\n",
        "        temp = coordinate[0]\n",
        "        coordinate[0] = coordinate[1]\n",
        "        coordinate[1] = temp\n",
        "        return coordinate\n",
        "\n",
        "#to load path files in a dictionary\n",
        "def dict_paths(path_add):\n",
        "    dict_path_files={}\n",
        "    for root, dirs, files in os.walk(path_add):\n",
        "            for file in files:\n",
        "                dict_path_files[file.split('.')[0]] = root+'/'+file\n",
        "    return dict_path_files"
      ],
      "metadata": {
        "id": "Jf5HPq1tQewx"
      },
      "execution_count": null,
      "outputs": []
    },
    {
      "cell_type": "code",
      "source": [
        "class navigator:\n",
        "    def __init__(self,m,list_color):\n",
        "        self.start = 'l'\n",
        "        self.destination = 'a'\n",
        "        self.m=m\n",
        "        self.list=list_color\n",
        "\n",
        "    def changeDestination(self,new_destination):\n",
        "        self.destination = new_destination\n",
        "        print(f'Selected Start: {self.start} \\nSelected Destination: {self.destination}')\n",
        "\n",
        "    def changeStartPoint(self, new_startpoint):\n",
        "        self.start = new_startpoint\n",
        "\n",
        "    def drawPathWay(self,m):\n",
        "\n",
        "        path_add='C:/Users/Deeksha/Desktop/Project ex1/Paths'\n",
        "        file_dict=dict_paths(path_add)\n",
        "\n",
        "        search_file = self.start + self.destination\n",
        "        with open(file_dict[search_file]) as f:\n",
        "            testWay = json.load(f)\n",
        "\n",
        "        for feature in testWay['features']:\n",
        "            path = feature['geometry']['coordinates']\n",
        "\n",
        "        finalPath = list(map(switchPosition,path))\n",
        "        folium.plugins.AntPath(finalPath).add_to(self.m)\n",
        "\n",
        "    def draw_map(self,m,list_col):\n",
        "        for i in self.list:\n",
        "            dict_paths(i)\n",
        "            #a=dict_paths(i)\n",
        "            for j in dict_paths(i):\n",
        "                add_col(dict_paths(i)[j],self.list[i])"
      ],
      "metadata": {
        "id": "Q2sZtEFpQuZb"
      },
      "execution_count": null,
      "outputs": []
    },
    {
      "cell_type": "code",
      "source": [
        "Navigator = navigator(m,list_col)\n",
        "\n",
        "#to change the starting location\n",
        "def change_start(whereFrom):\n",
        "    Navigator.changeStartPoint(whereFrom)\n",
        "\n",
        "#to change the ending location\n",
        "def displayWay(whereTo):\n",
        "    Navigator.changeDestination(whereTo)\n",
        "    Navigator.drawPathWay(m)\n",
        "    Navigator.draw_map(m,list_col)\n",
        "    display(m)\n",
        "    #folium.LayerControl().add_to(m)"
      ],
      "metadata": {
        "id": "zmvlSwmqQymo"
      },
      "execution_count": null,
      "outputs": []
    },
    {
      "cell_type": "code",
      "source": [
        "select_start=ipywidgets.Select(\n",
        "    options=[\"Girls Hostel 1\"],\n",
        "    value=\"Girls Hostel 1\",\n",
        "    description='Start',\n",
        "    disabled=False)\n",
        "\n",
        "def selectOption(opt):\n",
        "    if opt == \"Girls Hostel 1\":\n",
        "         change_start('g')\n",
        "\n",
        "select_end=ipywidgets.Select(\n",
        "    options=[\"Girls Hostel 1\", \"Boys Hostel 1\", \"University Entrance\", \"Academic Block\", \"Cafeteria\", \"Multi-Purpose Hall\", \"Lab Complex\", \"Aerospace Lab\"],\n",
        "    value='University Entrance',\n",
        "    description='Destination',\n",
        "    disabled=False)\n",
        "\n",
        "def selectOption1(opt):\n",
        "    if opt == \"Girls Hostel 1\":\n",
        "        displayWay('g' )\n",
        "    if opt == \"Boys Hostel 1\":\n",
        "        displayWay('b' )\n",
        "    if opt == \"University Entrance\":\n",
        "        displayWay('e' )\n",
        "    if opt ==  \"Academic Block\":\n",
        "        displayWay('a' )\n",
        "    if opt == \"Cafeteria\":\n",
        "        displayWay('c' )\n",
        "    if opt == \"Multi-Purpose Hall\":\n",
        "        displayWay('m' )\n",
        "    if opt == \"Lab Complex\":\n",
        "        displayWay('l' )\n",
        "    if opt ==  \"Aerospace Lab\":\n",
        "        displayWay('ar' )\n",
        "\n",
        "ipywidgets.interact(selectOption, opt=select_start)\n",
        "ipywidgets.interact(selectOption1, opt=select_end)\n",
        "#folium.LayerControl().add_to(m)\n",
        "#display(m)\n",
        "print(\"done\")"
      ],
      "metadata": {
        "id": "RJEi9qNSQv_v"
      },
      "execution_count": null,
      "outputs": []
    }
  ]
}